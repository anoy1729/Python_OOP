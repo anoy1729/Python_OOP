{
  "nbformat": 4,
  "nbformat_minor": 0,
  "metadata": {
    "colab": {
      "name": "pynative oop exercise.ipynb",
      "provenance": [],
      "collapsed_sections": []
    },
    "kernelspec": {
      "name": "python3",
      "display_name": "Python 3"
    },
    "language_info": {
      "name": "python"
    }
  },
  "cells": [
    {
      "cell_type": "markdown",
      "metadata": {
        "id": "19RTabxbXN0S"
      },
      "source": [
        "OOP Exercise 1: Create a Vehicle class with max_speed and mileage instance attributes"
      ]
    },
    {
      "cell_type": "code",
      "metadata": {
        "colab": {
          "base_uri": "https://localhost:8080/"
        },
        "id": "WVJryU7XXPPp",
        "outputId": "16eb79ff-9de3-46b1-d474-191cdc02cbdd"
      },
      "source": [
        "class Vehicle:\n",
        "  def __init__(self, max_speed, mileage):\n",
        "    self.max = max_speed\n",
        "    self.mileage = mileage\n",
        "  def info(self):\n",
        "    return f'max speed = {self.max} & mileage = {self.mileage}'\n",
        "\n",
        "new = Vehicle(80,50)\n",
        "print(new.info())"
      ],
      "execution_count": 39,
      "outputs": [
        {
          "output_type": "stream",
          "text": [
            "max speed = 80 & mileage = 50\n"
          ],
          "name": "stdout"
        }
      ]
    },
    {
      "cell_type": "markdown",
      "metadata": {
        "id": "l71n4xuZX9rC"
      },
      "source": [
        "OOP Exercise 2: Create a Vehicle class without any variables and methods"
      ]
    },
    {
      "cell_type": "code",
      "metadata": {
        "id": "MRDTbBtvYAvf"
      },
      "source": [
        "class Vehicle:\n",
        "    pass"
      ],
      "execution_count": 40,
      "outputs": []
    },
    {
      "cell_type": "markdown",
      "metadata": {
        "id": "7XItt5PjYGk9"
      },
      "source": [
        "OOP Exercise 3: Create a child class Bus that will inherit all of the variables and methods of the Vehicle class"
      ]
    },
    {
      "cell_type": "code",
      "metadata": {
        "colab": {
          "base_uri": "https://localhost:8080/"
        },
        "id": "dt5_HW0OYF53",
        "outputId": "6136bf93-d0e8-4b30-ff12-2bfba8f375a7"
      },
      "source": [
        "class Vehicle:\n",
        "  def __init__(self,name, max_speed, mileage):\n",
        "    self.name = name\n",
        "    self.max = max_speed\n",
        "    self.mileage = mileage\n",
        "  def info(self):\n",
        "    return f'name = {self.name}, max speed = {self.max} & mileage = {self.mileage}'\n",
        "class Bus(Vehicle):\n",
        "  pass\n",
        "new = Bus('Volvo', 100, 50)\n",
        "print(new.info())"
      ],
      "execution_count": 41,
      "outputs": [
        {
          "output_type": "stream",
          "text": [
            "name = Volvo, max speed = 100 & mileage = 50\n"
          ],
          "name": "stdout"
        }
      ]
    },
    {
      "cell_type": "markdown",
      "metadata": {
        "id": "AI6Bs0xeNyTn"
      },
      "source": [
        "Child class"
      ]
    },
    {
      "cell_type": "code",
      "metadata": {
        "colab": {
          "base_uri": "https://localhost:8080/"
        },
        "id": "8JdnG_YTKJes",
        "outputId": "ffabcf63-2648-449d-a665-de7f38cab990"
      },
      "source": [
        "class Vehicle:\n",
        "\n",
        "    def __init__(self, name, max_speed, mileage):\n",
        "        self.name = name\n",
        "        self.max_speed = max_speed\n",
        "        self.mileage = mileage\n",
        "    def intro(self):\n",
        "      print(f'bus name : {self.name}; max speed = {self.max_speed}; milage = {self.mileage}')\n",
        "\n",
        "      \n",
        "class bus(Vehicle): \n",
        "  \n",
        "  #child class of Vehicle\n",
        "  pass\n",
        "\n",
        "volvo = bus('volvo tuktuk',80,30)\n",
        "volvo.intro()"
      ],
      "execution_count": 2,
      "outputs": [
        {
          "output_type": "stream",
          "text": [
            "bus name : volvo tuktuk max speed = 80 milage = 30\n"
          ],
          "name": "stdout"
        }
      ]
    },
    {
      "cell_type": "markdown",
      "metadata": {
        "id": "df7ZQ495N0LU"
      },
      "source": [
        "OOP Exercise 4: Class Inheritance\n",
        "Given:\n",
        "\n",
        "Create a Bus class that inherits from the Vehicle class. Give the capacity argument of Bus.seating_capacity() a default value of 50.\n",
        "\n",
        "Use the following code for your parent Vehicle class. You need to use method overriding."
      ]
    },
    {
      "cell_type": "code",
      "metadata": {
        "colab": {
          "base_uri": "https://localhost:8080/",
          "height": 35
        },
        "id": "6kEXYPQGN34F",
        "outputId": "80141b19-0282-404d-81a6-a38cfbe03626"
      },
      "source": [
        "class Vehicle:\n",
        "    def __init__(self, name, max_speed, mileage):\n",
        "        self.name = name\n",
        "        self.max_speed = max_speed\n",
        "        self.mileage = mileage\n",
        "\n",
        "    def seating_capacity(self, capacity):\n",
        "        return f\"The seating capacity of a {self.name} is {capacity} passengers\"\n",
        "\n",
        "class bus(Vehicle):\n",
        "  def seating_capacity(self, capacity = 50):\n",
        "    self.capacity = capacity\n",
        "    return super().seating_capacity(self.capacity)\n",
        "\n",
        "newbus = bus('volvo', 80, 50)\n",
        "newbus.seating_capacity()"
      ],
      "execution_count": 44,
      "outputs": [
        {
          "output_type": "execute_result",
          "data": {
            "application/vnd.google.colaboratory.intrinsic+json": {
              "type": "string"
            },
            "text/plain": [
              "'The seating capacity of a volvo is 50 passengers'"
            ]
          },
          "metadata": {
            "tags": []
          },
          "execution_count": 44
        }
      ]
    },
    {
      "cell_type": "markdown",
      "metadata": {
        "id": "DUc0QrswRyHb"
      },
      "source": [
        "OOP Exercise 5: Define property that should have the same value for every class instance\n"
      ]
    },
    {
      "cell_type": "code",
      "metadata": {
        "colab": {
          "base_uri": "https://localhost:8080/"
        },
        "id": "-Fza8ANBR5At",
        "outputId": "52c5fb43-6053-406a-a58b-ef2e9899331e"
      },
      "source": [
        "class Vehicle:\n",
        "    color = 'White'\n",
        "    def __init__(self, name, max_speed, mileage):\n",
        "        self.name = name\n",
        "        self.max_speed = max_speed\n",
        "        self.mileage = mileage\n",
        "        \n",
        "    def intro(self):\n",
        "      return f'color : {self.color}, name = {self.name}, Speed = {self.max_speed}, mileage = {self.mileage}'\n",
        "\n",
        "class Bus(Vehicle):\n",
        "    pass\n",
        "\n",
        "class Car(Vehicle):\n",
        "    pass\n",
        "\n",
        "newbus = Bus('Volovo', 100, 50)\n",
        "newcar = Car('Toyota' , 50, 25)\n",
        "\n",
        "print(newbus.intro())\n",
        "print(newcar.intro())"
      ],
      "execution_count": 27,
      "outputs": [
        {
          "output_type": "stream",
          "text": [
            "color : White, name = Volovo, Speed = 100, mileage = 50\n",
            "color : White, name = Toyota, Speed = 50, mileage = 25\n"
          ],
          "name": "stdout"
        }
      ]
    },
    {
      "cell_type": "markdown",
      "metadata": {
        "id": "GD6RSYmFT8-a"
      },
      "source": [
        "OOP Exercise 6: Class Inheritance Given: Create a Bus child class that inherits from the Vehicle class. The default fare charge of any vehicle is seating capacity * 100. If Vehicle is Bus instance, we need to add an extra 10% on full fare as a maintenance charge. So total fare for bus instance will become the final amount = total fare + 10% of the total fare. Note: The bus seating capacity is 50. so the final fare amount should be 5500. You need to override the fare() method of a Vehicle class in Bus class. Use the following code for your parent Vehicle class. We need to access the parent class from inside a method of a child class."
      ]
    },
    {
      "cell_type": "code",
      "metadata": {
        "colab": {
          "base_uri": "https://localhost:8080/"
        },
        "id": "25Wha3-2T8Wx",
        "outputId": "e95b3550-62d1-4cdb-8185-2dae83c218bd"
      },
      "source": [
        "class Vehicle:\n",
        "    def __init__(self, name, mileage, capacity):\n",
        "        self.name = name\n",
        "        self.mileage = mileage\n",
        "        self.capacity = capacity\n",
        "\n",
        "    def fare(self):\n",
        "        return self.capacity * 100\n",
        "\n",
        "class Bus(Vehicle):\n",
        "  def fare(self):\n",
        "    return super().fare() + super().fare()*0.10\n",
        "\n",
        "School_bus = Bus(\"School Volvo\", 12, 50)\n",
        "print(\"Total Bus fare is:\", School_bus.fare())"
      ],
      "execution_count": 28,
      "outputs": [
        {
          "output_type": "stream",
          "text": [
            "Total Bus fare is: 5500.0\n"
          ],
          "name": "stdout"
        }
      ]
    },
    {
      "cell_type": "markdown",
      "metadata": {
        "id": "XXUJ7-u9V8ov"
      },
      "source": [
        "OOP Exercise 7: Determine which class a given Bus object belongs to (Check type of an object)"
      ]
    },
    {
      "cell_type": "code",
      "metadata": {
        "colab": {
          "base_uri": "https://localhost:8080/"
        },
        "id": "Z4ZWEiIPV_QL",
        "outputId": "593f71df-6245-4ae5-9c01-459e9f0b63e6"
      },
      "source": [
        "class Vehicle:\n",
        "    def __init__(self, name, mileage, capacity):\n",
        "        self.name = name\n",
        "        self.mileage = mileage\n",
        "        self.capacity = capacity\n",
        "\n",
        "class Bus(Vehicle):\n",
        "    pass\n",
        "\n",
        "School_bus = Bus(\"School Volvo\", 12, 50)\n",
        "print(type(School_bus))"
      ],
      "execution_count": 35,
      "outputs": [
        {
          "output_type": "stream",
          "text": [
            "<class '__main__.Bus'>\n"
          ],
          "name": "stdout"
        }
      ]
    },
    {
      "cell_type": "markdown",
      "metadata": {
        "id": "bhX1WkcFW6Qe"
      },
      "source": [
        "OOP Exercise 8: Determine if School_bus is also an instance of the Vehicle class"
      ]
    },
    {
      "cell_type": "code",
      "metadata": {
        "colab": {
          "base_uri": "https://localhost:8080/"
        },
        "id": "8J9hK0jdW3TS",
        "outputId": "6cc42c9e-7f4a-4017-bbfa-9dd22db32cb0"
      },
      "source": [
        "class Vehicle:\n",
        "    def __init__(self, name, mileage, capacity):\n",
        "        self.name = name\n",
        "        self.mileage = mileage\n",
        "        self.capacity = capacity\n",
        "\n",
        "class Bus(Vehicle):\n",
        "    pass\n",
        "\n",
        "School_bus = Bus(\"School Volvo\", 12, 50)\n",
        "\n",
        "# use Python's built-in isinstance() function\n",
        "print(isinstance(School_bus, Vehicle))"
      ],
      "execution_count": 38,
      "outputs": [
        {
          "output_type": "stream",
          "text": [
            "True\n"
          ],
          "name": "stdout"
        }
      ]
    }
  ]
}